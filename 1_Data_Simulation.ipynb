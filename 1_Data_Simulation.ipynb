{
 "cells": [
  {
   "attachments": {},
   "cell_type": "markdown",
   "metadata": {},
   "source": [
    "### Libraries needed"
   ]
  },
  {
   "cell_type": "code",
   "execution_count": null,
   "metadata": {},
   "outputs": [],
   "source": [
    "import pandas as pd\n",
    "import numpy as np\n",
    "from scipy.stats import uniform, norm\n",
    "from sklearn.model_selection import train_test_split"
   ]
  },
  {
   "attachments": {},
   "cell_type": "markdown",
   "metadata": {},
   "source": [
    "Change the parameters and the expression according to your needs"
   ]
  },
  {
   "cell_type": "code",
   "execution_count": null,
   "metadata": {},
   "outputs": [],
   "source": [
    "def data_gen_process(seed, beta1, beta2, n_train, n_test, lower_bound_x, upper_bound_x, var_epsilon):\n",
    "\n",
    "   np.random.seed(seed)\n",
    "   epsilon = np.random.normal(0, var_epsilon, n_train + n_test)\n",
    "   x = np.random.uniform(lower_bound_x, upper_bound_x, n_train + n_test)\n",
    "   y = beta1*x + beta2*x**2 + epsilon\n",
    "\n",
    "   x_train = x[:n_train]\n",
    "   x_test = x[n_train:n_train+n_test]\n",
    "   epsilon_train = epsilon[:n_train]\n",
    "   epsilon_test = epsilon[n_train:n_train+n_test]\n",
    "   \n",
    "   y_train = beta1*x_train + beta2*x_train**2 + epsilon_train\n",
    "   y_test = beta1*x_test + beta2*x_test**2 + epsilon_test\n",
    "\n",
    "\n",
    "   df_total_x\n",
    "   df_train_x\n",
    "   df_test_x\n",
    "   df_total_y\n",
    "   df_train_y\n",
    "   df_test_y\n",
    "\n",
    "   df.to_csv(f\"quad_values_beta1{beta1}_beta2{beta2}_train{n_train}_test{n_test}_x_{lower_bound_x}_{upper_bound_x}_vareps_{var_epsilon}\")"
   ]
  }
 ],
 "metadata": {
  "language_info": {
   "name": "python"
  },
  "orig_nbformat": 4
 },
 "nbformat": 4,
 "nbformat_minor": 2
}
