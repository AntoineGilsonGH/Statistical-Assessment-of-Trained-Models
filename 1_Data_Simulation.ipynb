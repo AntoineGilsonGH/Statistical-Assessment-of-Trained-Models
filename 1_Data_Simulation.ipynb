{
 "cells": [
  {
   "attachments": {},
   "cell_type": "markdown",
   "metadata": {},
   "source": [
    "### Libraries needed"
   ]
  },
  {
   "cell_type": "code",
   "execution_count": 3,
   "metadata": {},
   "outputs": [],
   "source": [
    "import pandas as pd\n",
    "import numpy as np\n",
    "from scipy.stats import uniform, norm"
   ]
  },
  {
   "attachments": {},
   "cell_type": "markdown",
   "metadata": {},
   "source": [
    "Change the parameters and the expression according to your needs"
   ]
  },
  {
   "cell_type": "code",
   "execution_count": 10,
   "metadata": {},
   "outputs": [],
   "source": [
    "def data_gen_process(seed, beta1, beta2, n, lower_bound_x, upper_bound_x, var_epsilon):\n",
    "\n",
    "   np.random.seed(seed)\n",
    "   epsilon = np.random.normal(0, var_epsilon, n)\n",
    "   x = np.random.uniform(lower_bound_x, upper_bound_x, n)\n",
    "   x_law = \"uniform\"\n",
    "   y = beta1*x + beta2*x**2 + epsilon\n",
    "   expression = \"quadratic\"\n",
    "   \n",
    "   df_x = pd.DataFrame(x, columns=['x_values'])\n",
    "   df_y = pd.DataFrame(y, columns=['y_values'])\n",
    "\n",
    "   df_x.to_csv(f\"x_{x_law}_values_{lower_bound_x}_{upper_bound_x}_n{n}.csv\")\n",
    "   df_y.to_csv(f\"y_{expression}_values_beta1_{beta1}_beta2_{beta2}_n{n}_x_{lower_bound_x}_{upper_bound_x}_vareps_{var_epsilon}.csv\")\n",
    "\n",
    "   print(f\"Les valeurs de X ont été sauvegardées dans le fichier : x_{x_law}_values_{lower_bound_x}_{upper_bound_x}_n{n}.csv\")\n",
    "   print(f\"Les valeurs de Y ont été sauvegardées dans le fichier : y_{expression}_values_beta1_{beta1}_beta2_{beta2}_n{n}_x_{lower_bound_x}_{upper_bound_x}_vareps_{var_epsilon}.csv\")\n"
   ]
  },
  {
   "cell_type": "code",
   "execution_count": 11,
   "metadata": {},
   "outputs": [
    {
     "name": "stdout",
     "output_type": "stream",
     "text": [
      "Les valeurs de X ont été sauvegardées dans le fichier : x_uniform_values_0_5_n300.csv\n",
      "Les valeurs de Y ont été sauvegardées dans le fichier : y_quadratic_values_beta1_1_beta2_0.16_n300_x_0_5_vareps_1.csv\n"
     ]
    }
   ],
   "source": [
    "data_gen_process(42,1,0.16,300,0,5,1)"
   ]
  }
 ],
 "metadata": {
  "kernelspec": {
   "display_name": "Python 3",
   "language": "python",
   "name": "python3"
  },
  "language_info": {
   "codemirror_mode": {
    "name": "ipython",
    "version": 3
   },
   "file_extension": ".py",
   "mimetype": "text/x-python",
   "name": "python",
   "nbconvert_exporter": "python",
   "pygments_lexer": "ipython3",
   "version": "3.9.6"
  },
  "orig_nbformat": 4
 },
 "nbformat": 4,
 "nbformat_minor": 2
}
