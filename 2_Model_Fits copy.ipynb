{
 "cells": [
  {
   "cell_type": "code",
   "execution_count": 5,
   "metadata": {},
   "outputs": [],
   "source": [
    "import numpy as np\n",
    "import matplotlib.pyplot as plt\n",
    "from sklearn.model_selection import train_test_split\n",
    "from sklearn.metrics import accuracy_score\n",
    "from sklearn.discriminant_analysis import LinearDiscriminantAnalysis\n",
    "import matplotlib.pyplot as plt\n",
    "import xgboost as xgb\n",
    "import pandas as pd\n",
    "from sklearn.linear_model import LinearRegression\n",
    "from sklearn.metrics import mean_squared_error\n",
    "import scipy.stats as stats\n",
    "from sklearn.utils import resample\n",
    "from sklearn.model_selection import cross_val_score, KFold\n",
    "from sklearn.svm import SVC"
   ]
  },
  {
   "cell_type": "code",
   "execution_count": 3,
   "metadata": {},
   "outputs": [],
   "source": [
    "# Definition of various metrics \n",
    "\n",
    "def mean_squared_error(y_true, y_pred):\n",
    "    return (y_true - y_pred) ** 2\n",
    "\n",
    "def mean_absolute_error(y_true, y_pred):\n",
    "    return abs(y_true - y_pred)\n",
    "\n",
    "def root_mean_squared_error(y_true, y_pred):\n",
    "    return (y_true - y_pred) ** 2 ** 0.5\n",
    "\n",
    "def classification_metrics(y_true, y_pred):\n",
    "    \"\"\"\n",
    "    Retourne un tableau de 1 et 0 indiquant si les prédictions sont correctes.\n",
    "    \"\"\"\n",
    "    return (y_true == y_pred).astype(int)\n"
   ]
  },
  {
   "cell_type": "code",
   "execution_count": 7,
   "metadata": {},
   "outputs": [],
   "source": [
    "# List of various classifiers\n",
    "\n",
    "from sklearn.neighbors import KNeighborsClassifier\n",
    "knn = KNeighborsClassifier(n_neighbors=5)\n",
    "\n",
    "from sklearn.svm import SVC\n",
    "svm = SVC(kernel='linear')\n",
    "\n",
    "from sklearn.tree import DecisionTreeClassifier\n",
    "dt = DecisionTreeClassifier()\n",
    "\n",
    "from sklearn.ensemble import RandomForestClassifier\n",
    "rf = RandomForestClassifier(n_estimators=100)\n",
    "\n",
    "from sklearn.linear_model import LogisticRegression\n",
    "lr = LogisticRegression()\n",
    "\n",
    "from sklearn.naive_bayes import GaussianNB\n",
    "nb = GaussianNB()\n",
    "\n",
    "import xgboost as xgb\n",
    "xgb_model = xgb.XGBClassifier(n_estimators=100)\n",
    "\n",
    "from sklearn.neural_network import MLPClassifier\n",
    "mlp = MLPClassifier(hidden_layer_sizes=(100,), max_iter=300)\n",
    "\n",
    "lda = LinearDiscriminantAnalysis()"
   ]
  },
  {
   "cell_type": "code",
   "execution_count": 13,
   "metadata": {},
   "outputs": [],
   "source": [
    "def model_errors(n_train, n_test, metrics):\n",
    "\n",
    "    x = pd.read_csv(\"Data/x_make_blobs_1000_20.csv\", index_col=0)\n",
    "    x_values = x.values\n",
    "    y = pd.read_csv(\"Data/y_make_blobs_1000_20.csv\")\n",
    "    y_values = y.values.flatten()\n",
    "    x_train, x_test, y_train, y_test = train_test_split(\n",
    "    x_values, y_values, \n",
    "    train_size=n_train, \n",
    "    test_size=n_test,\n",
    "    random_state=42  # Utiliser une graine pour la reproductibilité\n",
    ")\n",
    "\n",
    "    if x_test.size == 0 or y_test.size == 0:\n",
    "        raise ValueError(\"Test sample is empty. Please check your n_train and n_test.\")\n",
    "\n",
    "    rf = RandomForestClassifier(n_estimators=100).fit(x_train, y_train)\n",
    "    y_pred_1 = rf.predict(x_test)\n",
    "\n",
    "    error_1 = metrics(y_pred_1, y_test) # Choose your metric, in our example quadratic\n",
    "\n",
    "    error_df_1 = pd.DataFrame(error_1, columns=['Error'])\n",
    "\n",
    "    name_model = \"RandomForest\"\n",
    "    used_metric = \"classifier\"\n",
    "    additional_information = \"make\" # any information you need to remember your model in the filename \n",
    "\n",
    "    error_df_1.to_csv(f\"Errors/Errors_{name_model}_model_{used_metric}_{additional_information}.csv\", index=False)\n",
    "\n",
    "    print(f\"Errors of model DecisionTree have been saved in the file : Errors_{name_model}_model_{used_metric}_{additional_information}.csv\")\n",
    "\n",
    "    # If you want to feat two models at the same time \n",
    "    \n",
    "    nb = GaussianNB().fit(x_train, y_train)\n",
    "    y_pred_2 = nb.predict(x_test)\n",
    "\n",
    "    error_2 = metrics(y_pred_2, y_test) # Choose your metric, in our example quadratic\n",
    "\n",
    "    error_df_2 = pd.DataFrame(error_2, columns=['Error'])\n",
    "\n",
    "    name_model = \"NaiveBayes\"\n",
    "    used_metric = \"classifier\"\n",
    "    additional_information = \"\" # any information you need to remember your model in the filename \n",
    "\n",
    "    error_df_2.to_csv(f\"Errors/Errors_{name_model}_model_{used_metric}_{additional_information}.csv\", index=False)\n",
    "    print(f\"Errors of model Logistic Regression have been saved in the file : Errors_{name_model}_model_{used_metric}_{additional_information}.csv\")"
   ]
  },
  {
   "cell_type": "code",
   "execution_count": 15,
   "metadata": {},
   "outputs": [
    {
     "name": "stdout",
     "output_type": "stream",
     "text": [
      "Errors of model DecisionTree have been saved in the file : Errors_RandomForest_model_classifier_make.csv\n",
      "Errors of model Logistic Regression have been saved in the file : Errors_NaiveBayes_model_classifier_.csv\n"
     ]
    }
   ],
   "source": [
    "model_errors(50, 950, classification_metrics)"
   ]
  }
 ],
 "metadata": {
  "kernelspec": {
   "display_name": "Python 3",
   "language": "python",
   "name": "python3"
  },
  "language_info": {
   "codemirror_mode": {
    "name": "ipython",
    "version": 3
   },
   "file_extension": ".py",
   "mimetype": "text/x-python",
   "name": "python",
   "nbconvert_exporter": "python",
   "pygments_lexer": "ipython3",
   "version": "3.9.6"
  },
  "orig_nbformat": 4
 },
 "nbformat": 4,
 "nbformat_minor": 2
}
