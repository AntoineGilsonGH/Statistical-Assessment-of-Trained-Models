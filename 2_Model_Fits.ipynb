{
 "cells": [
  {
   "cell_type": "code",
   "execution_count": null,
   "metadata": {},
   "outputs": [],
   "source": [
    "import pandas as pd\n",
    "import numpy as np\n",
    "import matplotlib.pyplot as plt\n",
    "import scipy.stats as statsx"
   ]
  },
  {
   "cell_type": "code",
   "execution_count": null,
   "metadata": {},
   "outputs": [],
   "source": [
    "data = pd.DataFrame()"
   ]
  },
  {
   "attachments": {},
   "cell_type": "markdown",
   "metadata": {},
   "source": [
    "Choose your model, in our exemple linear regression and quadratic regression"
   ]
  },
  {
   "cell_type": "code",
   "execution_count": null,
   "metadata": {},
   "outputs": [],
   "source": [
    "model = LinearRegression().fit(x_train.reshape(-1, 1), y_train)\n",
    "y_pred = model_a.predict(x_test.reshape(-1, 1))\n",
    "error = (y_test - y_pred_a)** # Quadratic metric \n",
    "\n"
   ]
  },
  {
   "cell_type": "code",
   "execution_count": null,
   "metadata": {},
   "outputs": [],
   "source": [
    "coef = model.coef_[0]\n",
    "intercept = model.intercept_\n",
    "x_continuous = \n",
    "\n",
    "def linear_model(x, coef):\n",
    "    intercept, slope = coef\n",
    "    return intercept + slope * x\n",
    "\n",
    "def quadratic_model(x, coef):\n",
    "    intercept, (slope1, slope2) = coef\n",
    "    return intercept + slope1 * x + slope2 * x**2\n",
    "\n",
    "model_fitted = linear_model(x_continuous, coef)"
   ]
  },
  {
   "cell_type": "code",
   "execution_count": null,
   "metadata": {},
   "outputs": [],
   "source": [
    "def plot_fits():\n",
    "  \n",
    "  model_fitted\n",
    "  x_continuous = np.linspace(0,5,1000)\n",
    "\n",
    "\n",
    "  plt.figure()\n",
    "  plt.title(\"Fitted model\")\n",
    "  plt.scatter(x[np.argsort(x)], y[np.argsort(x)], label = \"Real set\", color = \"g\", s = 5)\n",
    "  plt.plot(x_continuous, model_fitted, label = \"Prediction\", color = \"r\")\n",
    "  plt.grid()\n",
    "  plt.legend()\n",
    "  plt.plot()"
   ]
  },
  {
   "cell_type": "code",
   "execution_count": null,
   "metadata": {},
   "outputs": [],
   "source": [
    "df.to_csv(f\"errors_metrics{beta1}_beta2{beta2}_train{n_train}_test{n_test}_x_{lower_bound_x}_{upper_bound_x}_vareps_{var_epsilon}\")"
   ]
  }
 ],
 "metadata": {
  "language_info": {
   "name": "python"
  },
  "orig_nbformat": 4
 },
 "nbformat": 4,
 "nbformat_minor": 2
}
